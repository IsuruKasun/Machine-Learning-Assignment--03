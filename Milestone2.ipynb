{
  "nbformat": 4,
  "nbformat_minor": 0,
  "metadata": {
    "colab": {
      "provenance": [],
      "include_colab_link": true
    },
    "kernelspec": {
      "name": "python3",
      "display_name": "Python 3"
    },
    "language_info": {
      "name": "python"
    }
  },
  "cells": [
    {
      "cell_type": "markdown",
      "metadata": {
        "id": "view-in-github",
        "colab_type": "text"
      },
      "source": [
        "<a href=\"https://colab.research.google.com/github/IsuruKasun/Machine-Learning-Assignment--03/blob/main/Milestone2.ipynb\" target=\"_parent\"><img src=\"https://colab.research.google.com/assets/colab-badge.svg\" alt=\"Open In Colab\"/></a>"
      ]
    },
    {
      "cell_type": "markdown",
      "source": [
        "# Data Preparation"
      ],
      "metadata": {
        "id": "zTs7h7rdCSgL"
      }
    },
    {
      "cell_type": "code",
      "execution_count": null,
      "metadata": {
        "id": "0Cb06OeCBEDn",
        "colab": {
          "base_uri": "https://localhost:8080/"
        },
        "outputId": "e9e20e0a-c7ac-4278-e3bc-2e74baeb7841"
      },
      "outputs": [
        {
          "output_type": "stream",
          "name": "stdout",
          "text": [
            "Looking in indexes: https://pypi.org/simple, https://us-python.pkg.dev/colab-wheels/public/simple/\n",
            "Collecting skfeature-chappers\n",
            "  Downloading skfeature_chappers-1.1.0-py3-none-any.whl (66 kB)\n",
            "\u001b[2K     \u001b[90m━━━━━━━━━━━━━━━━━━━━━━━━━━━━━━━━━━━━━━━━\u001b[0m \u001b[32m66.3/66.3 kB\u001b[0m \u001b[31m1.7 MB/s\u001b[0m eta \u001b[36m0:00:00\u001b[0m\n",
            "\u001b[?25hRequirement already satisfied: pandas in /usr/local/lib/python3.9/dist-packages (from skfeature-chappers) (1.5.3)\n",
            "Requirement already satisfied: scikit-learn in /usr/local/lib/python3.9/dist-packages (from skfeature-chappers) (1.2.2)\n",
            "Requirement already satisfied: numpy in /usr/local/lib/python3.9/dist-packages (from skfeature-chappers) (1.22.4)\n",
            "Requirement already satisfied: python-dateutil>=2.8.1 in /usr/local/lib/python3.9/dist-packages (from pandas->skfeature-chappers) (2.8.2)\n",
            "Requirement already satisfied: pytz>=2020.1 in /usr/local/lib/python3.9/dist-packages (from pandas->skfeature-chappers) (2022.7.1)\n",
            "Requirement already satisfied: scipy>=1.3.2 in /usr/local/lib/python3.9/dist-packages (from scikit-learn->skfeature-chappers) (1.10.1)\n",
            "Requirement already satisfied: threadpoolctl>=2.0.0 in /usr/local/lib/python3.9/dist-packages (from scikit-learn->skfeature-chappers) (3.1.0)\n",
            "Requirement already satisfied: joblib>=1.1.1 in /usr/local/lib/python3.9/dist-packages (from scikit-learn->skfeature-chappers) (1.2.0)\n",
            "Requirement already satisfied: six>=1.5 in /usr/local/lib/python3.9/dist-packages (from python-dateutil>=2.8.1->pandas->skfeature-chappers) (1.16.0)\n",
            "Installing collected packages: skfeature-chappers\n",
            "Successfully installed skfeature-chappers-1.1.0\n",
            "Looking in indexes: https://pypi.org/simple, https://us-python.pkg.dev/colab-wheels/public/simple/\n",
            "Requirement already satisfied: scikit-learn in /usr/local/lib/python3.9/dist-packages (1.2.2)\n",
            "Requirement already satisfied: joblib>=1.1.1 in /usr/local/lib/python3.9/dist-packages (from scikit-learn) (1.2.0)\n",
            "Requirement already satisfied: numpy>=1.17.3 in /usr/local/lib/python3.9/dist-packages (from scikit-learn) (1.22.4)\n",
            "Requirement already satisfied: threadpoolctl>=2.0.0 in /usr/local/lib/python3.9/dist-packages (from scikit-learn) (3.1.0)\n",
            "Requirement already satisfied: scipy>=1.3.2 in /usr/local/lib/python3.9/dist-packages (from scikit-learn) (1.10.1)\n"
          ]
        }
      ],
      "source": [
        "!pip install skfeature-chappers\n",
        "!pip install scikit-learn\n",
        "\n",
        "import pandas as pd\n",
        "from matplotlib.pyplot import bar, xlabel, ylabel, title\n",
        "import matplotlib.pyplot as plt\n",
        "from google.colab import drive\n",
        "\n",
        "from sklearn.model_selection  import train_test_split\n",
        "from skfeature.function.similarity_based import fisher_score\n",
        "from sklearn.feature_selection import VarianceThreshold\n",
        "\n",
        "from xgboost import XGBClassifier\n",
        "from sklearn.metrics import accuracy_score, mean_squared_error, mean_absolute_error\n",
        "from sklearn.feature_selection import SelectKBest\n",
        "from sklearn.feature_selection import chi2\n",
        "from sklearn.impute import SimpleImputer\n",
        "from sklearn.ensemble import RandomForestClassifier\n",
        "from sklearn import svm\n",
        "import numpy as np"
      ]
    },
    {
      "cell_type": "code",
      "source": [
        "# Mount drive for dataset import\n",
        "\n",
        "drive.mount('/content/drive')\n",
        "\n",
        "dbPath = '/content/drive/MyDrive/SYSC4415W23_A3_dataset'"
      ],
      "metadata": {
        "id": "uj0-q8eZC6u8",
        "colab": {
          "base_uri": "https://localhost:8080/"
        },
        "outputId": "241a9360-cc94-448c-bd9b-f7c701c9e67e"
      },
      "execution_count": null,
      "outputs": [
        {
          "output_type": "stream",
          "name": "stdout",
          "text": [
            "Drive already mounted at /content/drive; to attempt to forcibly remount, call drive.mount(\"/content/drive\", force_remount=True).\n"
          ]
        }
      ]
    },
    {
      "cell_type": "code",
      "source": [
        "# Sample to labels csv dataset to pandas dataframe\n",
        "labels = pd.read_csv(dbPath + \"/train/labels.csv\")\n",
        "\n",
        "test_labels = pd.read_csv(dbPath + \"/test/labels.csv\")\n",
        "'''\n",
        "# Dictionary to store sample and its associated pandas dataframe\n",
        "# {key:value} = {sample id:pandas dataframe}\n",
        "signals = {}\n",
        "\n",
        "for sample_id in labels[\"sample_id\"]:\n",
        "\n",
        "  signals[sample_id] = pd.read_csv(dbPath + \"/train/signals/\" + str(sample_id) + \".csv\")\n",
        "'''\n",
        "print(labels.shape)\n",
        "print(test_labels.shape)"
      ],
      "metadata": {
        "id": "52VTXbZRL2GM"
      },
      "execution_count": null,
      "outputs": []
    },
    {
      "cell_type": "code",
      "source": [
        "# Import the train and test datasets\n",
        "\n",
        "features = pd.read_csv(dbPath + \"/train/extracted_features.csv\")\n",
        "\n",
        "test_df = pd.read_csv(dbPath + \"/test/extracted_features.csv\")\n",
        "\n",
        "test_column_order = test_df['sample_id']\n",
        "\n",
        "test_df.insert(1, 'label', \"\")\n",
        "\n",
        "print(features.shape)\n",
        "print(test_df.shape)"
      ],
      "metadata": {
        "id": "DLVf8gzXP3q2"
      },
      "execution_count": null,
      "outputs": []
    },
    {
      "cell_type": "code",
      "source": [
        "# Creates a merged dataframe from the features and its associated label\n",
        "df = pd.merge(labels, features, on='sample_id')\n",
        "\n",
        "df_columns = df.columns\n",
        "\n",
        "print(df.shape)"
      ],
      "metadata": {
        "id": "8oP25q4E8XXH"
      },
      "execution_count": null,
      "outputs": []
    },
    {
      "cell_type": "markdown",
      "source": [
        "# Data Cleanup"
      ],
      "metadata": {
        "id": "dYjbdgzi8hdu"
      }
    },
    {
      "cell_type": "code",
      "source": [
        "# Remove  quasi-constant features (90 % similarity)\n",
        "\n",
        "qconstant_filter = VarianceThreshold(threshold=0.10)\n",
        "\n",
        "qconstant_filter.fit(df)\n",
        "\n",
        "qconstant_columns = [column for column in df.columns\n",
        "                    if column not in df.columns[qconstant_filter.get_support()]]\n",
        "\n",
        "print(\"Number of quasi-constant features: \" + str(len(qconstant_columns)))\n",
        "\n",
        "df = df[df.columns[qconstant_filter.get_support(indices=True)]]\n",
        "\n",
        "print(df.shape)\n",
        "\n",
        "# Remove sample_id column & NaN columns\n",
        "df = df.drop(['sample_id'], axis=1)\n",
        "df = df.dropna(axis=1)\n",
        "\n",
        "print(df.shape)\n",
        "\n",
        "train, val = train_test_split(df, test_size=0.2)"
      ],
      "metadata": {
        "id": "-mQuvLtptGjB"
      },
      "execution_count": null,
      "outputs": []
    },
    {
      "cell_type": "code",
      "source": [
        "# Test data cleanup \n",
        "test_df = test_df[test_df.columns[qconstant_filter.get_support(indices=True)]]\n",
        "\n",
        "test_df = test_df.drop(['sample_id', 'label'], axis=1)\n",
        "test_df = test_df.dropna(axis=1)\n",
        "\n",
        "print(test_df.shape)"
      ],
      "metadata": {
        "id": "-JTdE5UUdkX8"
      },
      "execution_count": null,
      "outputs": []
    },
    {
      "cell_type": "code",
      "source": [
        "Y_tr = train['label']\n",
        "X_tr = train[train.columns.drop(['label'])]\n",
        "\n",
        "Y_val = val['label']\n",
        "X_val = val[val.columns.drop(['label'])]\n",
        "\n",
        "# Copy the data\n",
        "X_tr_scaled = X_tr.copy()\n",
        "X_val_scaled = X_val.copy()\n",
        "\n",
        "# Apply normalization\n",
        "for column in X_tr_scaled.columns:\n",
        "\tX_tr_scaled[column] = (X_tr_scaled[column] - X_tr_scaled[column].min()) / (X_tr_scaled[column].max() - X_tr_scaled[column].min())\t\n",
        " \n",
        "for column in X_val_scaled.columns:\n",
        "\tX_val_scaled[column] = (X_val_scaled[column] - X_val_scaled[column].min()) / (X_val_scaled[column].max() - X_val_scaled[column].min())\t\n",
        "\n",
        "print(X_tr_scaled.shape)\n",
        "print(X_val_scaled.shape)"
      ],
      "metadata": {
        "id": "xJXKGCJV28Ks"
      },
      "execution_count": null,
      "outputs": []
    },
    {
      "cell_type": "code",
      "source": [
        "# Copy the data\n",
        "X_test_scaled = test_df.copy()\n",
        "\n",
        "# Apply normalization\n",
        "for column in X_test_scaled.columns:\n",
        "\tX_test_scaled[column] = (X_test_scaled[column] - X_test_scaled[column].min()) / (X_test_scaled[column].max() - X_test_scaled[column].min())\t\n",
        " \n",
        "print(X_tr_scaled.shape)"
      ],
      "metadata": {
        "id": "Cb1UlQVwfnSQ"
      },
      "execution_count": null,
      "outputs": []
    },
    {
      "cell_type": "code",
      "source": [
        "# # Finding ideal value for k for logistic regression based on ANOVA score\n",
        "\n",
        "from sklearn.feature_selection import f_classif\n",
        "import matplotlib.pyplot as plt\n",
        "from sklearn.linear_model import LogisticRegression\n",
        "\n",
        "fs = SelectKBest(score_func=f_classif, k='all')\n",
        "\n",
        "fs.fit(X_tr_scaled, Y_tr)\n",
        "cols_idxs = fs.get_support(indices=True)\n",
        "\n",
        "X_best_features = X_tr_scaled.iloc[:,cols_idxs]\n",
        "\n",
        "X_best_features_val = X_val_scaled.iloc[:,cols_idxs]\n",
        "\n",
        "index = []\n",
        "\n",
        "for i in range(len(fs.scores_)):\n",
        "  #print('Feature %d: %f' % (i, fs.scores_[i]))\n",
        "  if fs.scores_[i] < 100:\n",
        "    index.append(i)\n",
        "\n",
        "X_best_features2 = X_best_features.drop(X_best_features.columns[index], axis=1)\n",
        "X_best_features_val2 = X_best_features_val.drop(X_best_features_val.columns[index], axis=1)\n",
        "\n",
        "print(index) \n",
        "print(len(index)) \n",
        "\n",
        "print(X_best_features.shape)\n",
        "print(X_best_features_val.shape)\n",
        "\n",
        "print(X_best_features2.shape)\n",
        "print(X_best_features_val2.shape)"
      ],
      "metadata": {
        "id": "3EaBRzY8ZCkr"
      },
      "execution_count": null,
      "outputs": []
    },
    {
      "cell_type": "code",
      "source": [
        "X_best_features_test = X_test_scaled.drop(X_test_scaled.columns[index], axis=1)\n",
        "\n",
        "print(X_best_features_test.shape)"
      ],
      "metadata": {
        "colab": {
          "base_uri": "https://localhost:8080/"
        },
        "id": "GbAdSR4-hZZ6",
        "outputId": "622f59e9-32b7-4a94-82f9-24c2fbf2209d"
      },
      "execution_count": null,
      "outputs": [
        {
          "output_type": "stream",
          "name": "stdout",
          "text": [
            "(287, 1196)\n"
          ]
        }
      ]
    },
    {
      "cell_type": "markdown",
      "source": [
        "# Model Training"
      ],
      "metadata": {
        "id": "khQPQ0GPR6Ly"
      }
    },
    {
      "cell_type": "code",
      "source": [
        "# XGBoost Model\n",
        "\n",
        "xModel = XGBClassifier(max_depth=5).fit(X_best_features2, Y_tr)\n",
        "\n",
        "accTrain = accuracy_score(Y_tr, xModel.predict(X_best_features2))\n",
        "print(\"Accuracy of training set: \" + str(accTrain))\n",
        "\n",
        "accVal = accuracy_score(Y_val, xModel.predict(X_best_features_val2))\n",
        "print(\"Accuracy of validation set: \" + str(accVal))"
      ],
      "metadata": {
        "id": "ihQ3q3feHFcx"
      },
      "execution_count": null,
      "outputs": []
    },
    {
      "cell_type": "markdown",
      "source": [
        "# Model 2 Training"
      ],
      "metadata": {
        "id": "77AUBK6yT-3s"
      }
    },
    {
      "cell_type": "code",
      "source": [
        "rf = RandomForestClassifier(n_estimators=800, random_state=50)\n",
        "\n",
        "rf.fit(X_best_features2, Y_tr)\n",
        "\n",
        "#y_pred_train = rf.predict(X_best_features)\n",
        "\n",
        "accTrain = accuracy_score(Y_tr, rf.predict(X_best_features2))\n",
        "print(\"Accuracy of training set: \" + str(accTrain))\n",
        "\n",
        "accVal = accuracy_score(Y_val, rf.predict(X_best_features_val2))\n",
        "print(\"Accuracy of validation set: \" + str(accVal))"
      ],
      "metadata": {
        "colab": {
          "base_uri": "https://localhost:8080/"
        },
        "id": "QzyCWuQzUA-E",
        "outputId": "fbcfec07-3967-42d9-c9e2-799e58d9ebf5"
      },
      "execution_count": null,
      "outputs": [
        {
          "output_type": "stream",
          "name": "stdout",
          "text": [
            "Accuracy of training set: 0.9992283950617284\n",
            "Accuracy of validation set: 0.6030769230769231\n"
          ]
        }
      ]
    },
    {
      "cell_type": "markdown",
      "source": [
        "# Model 3 Training"
      ],
      "metadata": {
        "id": "yBBFSL8aVo13"
      }
    },
    {
      "cell_type": "code",
      "source": [
        "#scalar.fit(X_best_features2)\n",
        "svm_model = svm.SVC(kernel='linear')\n",
        "\n",
        "svm_model.fit(X_best_features2, Y_tr)\n",
        "\n",
        "accTrain = accuracy_score(Y_tr, svm_model.predict(X_best_features2))\n",
        "print(\"Accuracy of training set: \" + str(accTrain))\n",
        "\n",
        "accVal = accuracy_score(Y_val, svm_model.predict(X_best_features_val2))\n",
        "print(\"Accuracy of validation set: \" + str(accVal))"
      ],
      "metadata": {
        "colab": {
          "base_uri": "https://localhost:8080/"
        },
        "id": "85SKOEpnVrT_",
        "outputId": "ef7aef13-6c37-49ca-e5ee-5e79d35d215e"
      },
      "execution_count": null,
      "outputs": [
        {
          "output_type": "stream",
          "name": "stdout",
          "text": [
            "Accuracy of training set: 0.8618827160493827\n",
            "Accuracy of validation set: 0.6892307692307692\n"
          ]
        }
      ]
    },
    {
      "cell_type": "markdown",
      "source": [
        "# Model 4 Training"
      ],
      "metadata": {
        "id": "_sEagA2DX2yw"
      }
    },
    {
      "cell_type": "code",
      "source": [
        "from sklearn.linear_model import LogisticRegression\n",
        "\n",
        "LR_model = LogisticRegression(max_iter=5000).fit(X_best_features2, Y_tr)\n",
        "\n",
        "accTrain = accuracy_score(Y_tr, LR_model.predict(X_best_features2))\n",
        "print(\"Accuracy of training set: \" + str(accTrain))\n",
        "\n",
        "accVal = accuracy_score(Y_val, LR_model.predict(X_best_features_val2))\n",
        "print(\"Accuracy of validation set: \" + str(accVal))"
      ],
      "metadata": {
        "id": "Ah5i3L5Yw0LY"
      },
      "execution_count": null,
      "outputs": []
    },
    {
      "cell_type": "markdown",
      "source": [
        "# Model Combining"
      ],
      "metadata": {
        "id": "sMw5WJMAW2AJ"
      }
    },
    {
      "cell_type": "code",
      "source": [
        "from sklearn.ensemble import VotingClassifier\n",
        "\n",
        "voting_model = VotingClassifier(estimators=[('xgb', xModel), ('rf', rf), ('svm', svm_model), ('lr', LR_model)])\n",
        "\n",
        "voting_model.fit(X_best_features2, Y_tr)\n",
        "\n",
        "accTrain = accuracy_score(Y_tr, voting_model.predict(X_best_features2))\n",
        "print(\"Accuracy of training set: \" + str(accTrain))\n",
        "\n",
        "accVal = accuracy_score(Y_val, voting_model.predict(X_best_features_val2))\n",
        "print(\"Accuracy of validation set: \" + str(accVal))"
      ],
      "metadata": {
        "id": "GGFNqNZyW10T"
      },
      "execution_count": null,
      "outputs": []
    },
    {
      "cell_type": "markdown",
      "source": [
        "# Model Prediction"
      ],
      "metadata": {
        "id": "fdcxlkbkhsBZ"
      }
    },
    {
      "cell_type": "code",
      "source": [
        "y_pred = voting_model.predict(X_best_features_test)"
      ],
      "metadata": {
        "id": "bJmv5uL6XuI4"
      },
      "execution_count": null,
      "outputs": []
    },
    {
      "cell_type": "code",
      "source": [
        "csv_out = pd.DataFrame({'sample_id': test_column_order, 'predicted_labels': y_pred})\n",
        "\n",
        "csv_out.to_csv(dbPath + '/14_predictions.csv', index=False)"
      ],
      "metadata": {
        "id": "0QLyXcEjhvkJ"
      },
      "execution_count": null,
      "outputs": []
    },
    {
      "cell_type": "markdown",
      "source": [
        "# Model Accuracy"
      ],
      "metadata": {
        "id": "JxbvxQGOmJJn"
      }
    },
    {
      "cell_type": "code",
      "source": [
        "from sklearn.model_selection import cross_val_score\n",
        "cv_scores = cross_val_score(voting_model, X_best_features_val2, Y_val, cv=5)"
      ],
      "metadata": {
        "id": "QTtuHaSYrSan"
      },
      "execution_count": null,
      "outputs": []
    },
    {
      "cell_type": "code",
      "source": [
        "std_dev = np.std(cv_scores)\n",
        "print(std_dev)\n",
        "\n",
        "std_out = pd.DataFrame({'accuracy': accVal, 'accuracy std': std_dev}, index=[0])\n",
        "\n",
        "std_out.to_csv(dbPath + '/14_predicted_performace.csv', index=False)"
      ],
      "metadata": {
        "id": "4ZDQ9ryFs5Ik"
      },
      "execution_count": null,
      "outputs": []
    },
    {
      "cell_type": "markdown",
      "source": [
        "Confusing Matrix"
      ],
      "metadata": {
        "id": "H4CKIMZ-5k1G"
      }
    },
    {
      "cell_type": "code",
      "source": [
        "# Make predictions on validation set\n",
        "y_val_pred = xModel.predict(X_best_features_val2)\n",
        "\n",
        "# Generate confusion matrix\n",
        "from sklearn.metrics import confusion_matrix\n",
        "cm = confusion_matrix(Y_val, y_val_pred)\n",
        "print(cm)"
      ],
      "metadata": {
        "id": "WvUwJZ6V5nw-"
      },
      "execution_count": null,
      "outputs": []
    },
    {
      "cell_type": "code",
      "source": [
        "import seaborn as sns\n",
        "sns.heatmap(cm, annot=True, cmap='Blues')\n",
        "plt.xlabel('Predicted labels')\n",
        "plt.ylabel('True labels')\n",
        "plt.show()"
      ],
      "metadata": {
        "colab": {
          "base_uri": "https://localhost:8080/",
          "height": 448
        },
        "id": "9etWC8Dk-xky",
        "outputId": "1fec8c82-b119-4add-ea6b-b1962cb61a81"
      },
      "execution_count": null,
      "outputs": [
        {
          "output_type": "display_data",
          "data": {
            "text/plain": [
              "<Figure size 640x480 with 2 Axes>"
            ],
            "image/png": "[encoded data removed]"
          },
          "metadata": {}
        }
      ]
    },
    {
      "cell_type": "markdown",
      "source": [
        "PR - Curve"
      ],
      "metadata": {
        "id": "qgnCOQJh_CdK"
      }
    },
    {
      "cell_type": "code",
      "source": [
        "# Predict class probabilities for test set\n",
        "probs = xModel.predict_proba(X_best_features_val2)\n",
        "\n",
        "# Compute precision, recall, and threshold values for each class\n",
        "from sklearn.metrics import precision_recall_curve\n",
        "\n",
        "precision = dict()\n",
        "recall = dict()\n",
        "threshold = dict()\n",
        "\n",
        "for i in range(xModel.n_classes_):\n",
        "    precision[i], recall[i], threshold[i] = precision_recall_curve(\n",
        "        Y_val == i, probs[:, i])\n",
        "    plt.plot(recall[i], precision[i], lw=2, label=f'Class {i}')\n",
        "\n",
        "# Plot PR curves\n",
        "plt.xlabel('Recall')\n",
        "plt.ylabel('Precision')\n",
        "plt.legend(loc=\"best\")\n",
        "plt.title('Precision-Recall curves')\n",
        "plt.show()"
      ],
      "metadata": {
        "colab": {
          "base_uri": "https://localhost:8080/",
          "height": 471
        },
        "id": "KK89uOb8_EdG",
        "outputId": "83232758-92e3-4498-f2c9-4bbd79188aab"
      },
      "execution_count": null,
      "outputs": [
        {
          "output_type": "display_data",
          "data": {
            "text/plain": [
              "<Figure size 640x480 with 1 Axes>"
            ],
            "image/png": "[encoded data removed]"
          },
          "metadata": {}
        }
      ]
    }
  ]
}